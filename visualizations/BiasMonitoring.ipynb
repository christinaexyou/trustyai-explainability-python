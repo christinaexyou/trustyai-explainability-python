{
 "cells": [
  {
   "cell_type": "code",
   "execution_count": null,
   "metadata": {},
   "outputs": [],
   "source": [
    "!pip install trustyai"
   ]
  },
  {
   "cell_type": "markdown",
   "metadata": {},
   "source": [
    "The purpose of this demo is to highlight the capabilities of `dispayMetrics` module in the TrustyAI-Python library. This demo will show how to get TrustyAI metrics through a Jupyter notebook rather than the OpenShift CLI by utilizing the `dispayMetrics` module in the TrustyAI-Python library. It is the Python counterpart to an pre-existing demo: `odh-trusty-ai-demos/2-BiasMonitoring`, which explores how to use TrustyAI monitor models for bias. Before we get started, make sure you have completed the `odh-trusty-ai-demos/1-Installation` demo and the `Deploy Models` section in the `odh-trusty-ai-demos/2-BiasMonitoring` demo, or TLDR; met the following pre-requisites:\n",
    "\n",
    "* An ODH installation\n",
    "* A TrustyAI Operator\n",
    "* A model-namespace project containing an instance of the TrustyAI Service\n",
    "* Deployed models \n",
    "\n"
   ]
  },
  {
   "cell_type": "markdown",
   "metadata": {},
   "source": [
    "# Bias Monitoring"
   ]
  },
  {
   "cell_type": "code",
   "execution_count": 5,
   "metadata": {},
   "outputs": [],
   "source": [
    "# common \n",
    "import json\n",
    "import os \n",
    "import pandas\n",
    "import requests\n",
    "import subprocess\n",
    "\n",
    "import warnings\n",
    "warnings.filterwarnings(\"ignore\") \n",
    "\n",
    "# local\n",
    "from display_metrics import *\n",
    "from send_data_batch import *"
   ]
  },
  {
   "cell_type": "code",
   "execution_count": 6,
   "metadata": {},
   "outputs": [
    {
     "name": "stderr",
     "output_type": "stream",
     "text": [
      "Error from server (NotFound): routes.route.openshift.io \"trustyai-service\" not found\n"
     ]
    },
    {
     "ename": "CalledProcessError",
     "evalue": "Command 'oc get route/trustyai-service --template={{.spec.host}}' returned non-zero exit status 1.",
     "output_type": "error",
     "traceback": [
      "\u001b[0;31m---------------------------------------------------------------------------\u001b[0m",
      "\u001b[0;31mCalledProcessError\u001b[0m                        Traceback (most recent call last)",
      "Cell \u001b[0;32mIn[6], line 3\u001b[0m\n\u001b[1;32m      1\u001b[0m \u001b[38;5;66;03m# instantiate the client \u001b[39;00m\n\u001b[1;32m      2\u001b[0m TOKEN \u001b[38;5;241m=\u001b[39m (subprocess\u001b[38;5;241m.\u001b[39mcheck_output(\u001b[38;5;124m'\u001b[39m\u001b[38;5;124moc whoami -t\u001b[39m\u001b[38;5;124m'\u001b[39m, shell\u001b[38;5;241m=\u001b[39m\u001b[38;5;28;01mTrue\u001b[39;00m))\u001b[38;5;241m.\u001b[39mdecode()\u001b[38;5;241m.\u001b[39mstrip(\u001b[38;5;124m'\u001b[39m\u001b[38;5;130;01m\\n\u001b[39;00m\u001b[38;5;124m'\u001b[39m)\n\u001b[0;32m----> 3\u001b[0m trustyaiClient \u001b[38;5;241m=\u001b[39m \u001b[43mdisplayMetrics\u001b[49m\u001b[43m(\u001b[49m\u001b[43mtoken\u001b[49m\u001b[38;5;241;43m=\u001b[39;49m\u001b[43mTOKEN\u001b[49m\u001b[43m)\u001b[49m\n",
      "File \u001b[0;32m~/Documents/trustyai-explainability-python/src/trustyai/visualizations/display_metrics.py:57\u001b[0m, in \u001b[0;36mdisplayMetrics.__init__\u001b[0;34m(self, token)\u001b[0m\n\u001b[1;32m     55\u001b[0m \u001b[38;5;28;01mdef\u001b[39;00m \u001b[38;5;21m__init__\u001b[39m(\u001b[38;5;28mself\u001b[39m, token):\n\u001b[1;32m     56\u001b[0m     \u001b[38;5;28mself\u001b[39m\u001b[38;5;241m.\u001b[39mtoken \u001b[38;5;241m=\u001b[39m token\n\u001b[0;32m---> 57\u001b[0m     \u001b[38;5;28mself\u001b[39m\u001b[38;5;241m.\u001b[39mtrusty_url \u001b[38;5;241m=\u001b[39m \u001b[38;5;124m'\u001b[39m\u001b[38;5;124mhttps://\u001b[39m\u001b[38;5;124m'\u001b[39m \u001b[38;5;241m+\u001b[39m (\u001b[43msubprocess\u001b[49m\u001b[38;5;241;43m.\u001b[39;49m\u001b[43mcheck_output\u001b[49m\u001b[43m(\u001b[49m\u001b[38;5;124;43m'\u001b[39;49m\u001b[38;5;124;43moc get route/trustyai-service --template=\u001b[39;49m\u001b[38;5;124;43m{{\u001b[39;49m\u001b[38;5;124;43m.spec.host}}\u001b[39;49m\u001b[38;5;124;43m'\u001b[39;49m\u001b[43m,\u001b[49m\u001b[43m \u001b[49m\u001b[43mshell\u001b[49m\u001b[38;5;241;43m=\u001b[39;49m\u001b[38;5;28;43;01mTrue\u001b[39;49;00m\u001b[43m)\u001b[49m)\u001b[38;5;241m.\u001b[39mdecode()\n\u001b[1;32m     58\u001b[0m     \u001b[38;5;28mself\u001b[39m\u001b[38;5;241m.\u001b[39mthanos_url \u001b[38;5;241m=\u001b[39m \u001b[38;5;124m'\u001b[39m\u001b[38;5;124mhttps://\u001b[39m\u001b[38;5;124m'\u001b[39m \u001b[38;5;241m+\u001b[39m (subprocess\u001b[38;5;241m.\u001b[39mcheck_output(\u001b[38;5;124m'\u001b[39m\u001b[38;5;124moc get route thanos-querier -n openshift-monitoring --template=\u001b[39m\u001b[38;5;124m{{\u001b[39m\u001b[38;5;124m.spec.host}}\u001b[39m\u001b[38;5;124m'\u001b[39m, shell\u001b[38;5;241m=\u001b[39m\u001b[38;5;28;01mTrue\u001b[39;00m))\u001b[38;5;241m.\u001b[39mdecode()\n\u001b[1;32m     59\u001b[0m     \u001b[38;5;28mself\u001b[39m\u001b[38;5;241m.\u001b[39mheaders \u001b[38;5;241m=\u001b[39m {\u001b[38;5;124m\"\u001b[39m\u001b[38;5;124mAuthorization\u001b[39m\u001b[38;5;124m\"\u001b[39m: \u001b[38;5;124m\"\u001b[39m\u001b[38;5;124mBearer \u001b[39m\u001b[38;5;124m\"\u001b[39m \u001b[38;5;241m+\u001b[39m token}\n",
      "File \u001b[0;32m/Library/Developer/CommandLineTools/Library/Frameworks/Python3.framework/Versions/3.9/lib/python3.9/subprocess.py:424\u001b[0m, in \u001b[0;36mcheck_output\u001b[0;34m(timeout, *popenargs, **kwargs)\u001b[0m\n\u001b[1;32m    421\u001b[0m         empty \u001b[38;5;241m=\u001b[39m \u001b[38;5;124mb\u001b[39m\u001b[38;5;124m'\u001b[39m\u001b[38;5;124m'\u001b[39m\n\u001b[1;32m    422\u001b[0m     kwargs[\u001b[38;5;124m'\u001b[39m\u001b[38;5;124minput\u001b[39m\u001b[38;5;124m'\u001b[39m] \u001b[38;5;241m=\u001b[39m empty\n\u001b[0;32m--> 424\u001b[0m \u001b[38;5;28;01mreturn\u001b[39;00m \u001b[43mrun\u001b[49m\u001b[43m(\u001b[49m\u001b[38;5;241;43m*\u001b[39;49m\u001b[43mpopenargs\u001b[49m\u001b[43m,\u001b[49m\u001b[43m \u001b[49m\u001b[43mstdout\u001b[49m\u001b[38;5;241;43m=\u001b[39;49m\u001b[43mPIPE\u001b[49m\u001b[43m,\u001b[49m\u001b[43m \u001b[49m\u001b[43mtimeout\u001b[49m\u001b[38;5;241;43m=\u001b[39;49m\u001b[43mtimeout\u001b[49m\u001b[43m,\u001b[49m\u001b[43m \u001b[49m\u001b[43mcheck\u001b[49m\u001b[38;5;241;43m=\u001b[39;49m\u001b[38;5;28;43;01mTrue\u001b[39;49;00m\u001b[43m,\u001b[49m\n\u001b[1;32m    425\u001b[0m \u001b[43m           \u001b[49m\u001b[38;5;241;43m*\u001b[39;49m\u001b[38;5;241;43m*\u001b[39;49m\u001b[43mkwargs\u001b[49m\u001b[43m)\u001b[49m\u001b[38;5;241m.\u001b[39mstdout\n",
      "File \u001b[0;32m/Library/Developer/CommandLineTools/Library/Frameworks/Python3.framework/Versions/3.9/lib/python3.9/subprocess.py:528\u001b[0m, in \u001b[0;36mrun\u001b[0;34m(input, capture_output, timeout, check, *popenargs, **kwargs)\u001b[0m\n\u001b[1;32m    526\u001b[0m     retcode \u001b[38;5;241m=\u001b[39m process\u001b[38;5;241m.\u001b[39mpoll()\n\u001b[1;32m    527\u001b[0m     \u001b[38;5;28;01mif\u001b[39;00m check \u001b[38;5;129;01mand\u001b[39;00m retcode:\n\u001b[0;32m--> 528\u001b[0m         \u001b[38;5;28;01mraise\u001b[39;00m CalledProcessError(retcode, process\u001b[38;5;241m.\u001b[39margs,\n\u001b[1;32m    529\u001b[0m                                  output\u001b[38;5;241m=\u001b[39mstdout, stderr\u001b[38;5;241m=\u001b[39mstderr)\n\u001b[1;32m    530\u001b[0m \u001b[38;5;28;01mreturn\u001b[39;00m CompletedProcess(process\u001b[38;5;241m.\u001b[39margs, retcode, stdout, stderr)\n",
      "\u001b[0;31mCalledProcessError\u001b[0m: Command 'oc get route/trustyai-service --template={{.spec.host}}' returned non-zero exit status 1."
     ]
    }
   ],
   "source": [
    "# instantiate the client \n",
    "TOKEN = (subprocess.check_output('oc whoami -t', shell=True)).decode().strip('\\n')\n",
    "trustyaiClient = displayMetrics(token=TOKEN)"
   ]
  },
  {
   "cell_type": "markdown",
   "metadata": {},
   "source": [
    "For the purposes of this tutorial, we will use the existing data in `2-BiasMonitoring/data/` which is in `.json` format. We expect most users that use the `displayMetrics` module to have their data in a pandas DataFrame, in which the following step of converting `.json` data files to a dataframe can be skipped."
   ]
  },
  {
   "cell_type": "code",
   "execution_count": 4,
   "metadata": {},
   "outputs": [
    {
     "data": {
      "text/html": [
       "<div>\n",
       "<style scoped>\n",
       "    .dataframe tbody tr th:only-of-type {\n",
       "        vertical-align: middle;\n",
       "    }\n",
       "\n",
       "    .dataframe tbody tr th {\n",
       "        vertical-align: top;\n",
       "    }\n",
       "\n",
       "    .dataframe thead th {\n",
       "        text-align: right;\n",
       "    }\n",
       "</style>\n",
       "<table border=\"1\" class=\"dataframe\">\n",
       "  <thead>\n",
       "    <tr style=\"text-align: right;\">\n",
       "      <th></th>\n",
       "      <th>0</th>\n",
       "      <th>1</th>\n",
       "      <th>2</th>\n",
       "      <th>3</th>\n",
       "      <th>4</th>\n",
       "      <th>5</th>\n",
       "      <th>6</th>\n",
       "      <th>7</th>\n",
       "      <th>8</th>\n",
       "      <th>9</th>\n",
       "      <th>10</th>\n",
       "    </tr>\n",
       "  </thead>\n",
       "  <tbody>\n",
       "    <tr>\n",
       "      <th>0</th>\n",
       "      <td>0.0</td>\n",
       "      <td>267750.0</td>\n",
       "      <td>2.0</td>\n",
       "      <td>1.0</td>\n",
       "      <td>1.0</td>\n",
       "      <td>0.0</td>\n",
       "      <td>1.0</td>\n",
       "      <td>1.0</td>\n",
       "      <td>0.0</td>\n",
       "      <td>20991.0</td>\n",
       "      <td>4727.0</td>\n",
       "    </tr>\n",
       "    <tr>\n",
       "      <th>1</th>\n",
       "      <td>0.0</td>\n",
       "      <td>315000.0</td>\n",
       "      <td>2.0</td>\n",
       "      <td>1.0</td>\n",
       "      <td>1.0</td>\n",
       "      <td>1.0</td>\n",
       "      <td>1.0</td>\n",
       "      <td>1.0</td>\n",
       "      <td>0.0</td>\n",
       "      <td>10450.0</td>\n",
       "      <td>2077.0</td>\n",
       "    </tr>\n",
       "    <tr>\n",
       "      <th>2</th>\n",
       "      <td>1.0</td>\n",
       "      <td>405000.0</td>\n",
       "      <td>3.0</td>\n",
       "      <td>1.0</td>\n",
       "      <td>0.0</td>\n",
       "      <td>1.0</td>\n",
       "      <td>1.0</td>\n",
       "      <td>1.0</td>\n",
       "      <td>0.0</td>\n",
       "      <td>11842.0</td>\n",
       "      <td>2016.0</td>\n",
       "    </tr>\n",
       "    <tr>\n",
       "      <th>3</th>\n",
       "      <td>0.0</td>\n",
       "      <td>229500.0</td>\n",
       "      <td>2.0</td>\n",
       "      <td>1.0</td>\n",
       "      <td>1.0</td>\n",
       "      <td>0.0</td>\n",
       "      <td>1.0</td>\n",
       "      <td>1.0</td>\n",
       "      <td>0.0</td>\n",
       "      <td>18325.0</td>\n",
       "      <td>1256.0</td>\n",
       "    </tr>\n",
       "    <tr>\n",
       "      <th>4</th>\n",
       "      <td>0.0</td>\n",
       "      <td>180000.0</td>\n",
       "      <td>2.0</td>\n",
       "      <td>1.0</td>\n",
       "      <td>0.0</td>\n",
       "      <td>0.0</td>\n",
       "      <td>1.0</td>\n",
       "      <td>1.0</td>\n",
       "      <td>0.0</td>\n",
       "      <td>14781.0</td>\n",
       "      <td>2443.0</td>\n",
       "    </tr>\n",
       "  </tbody>\n",
       "</table>\n",
       "</div>"
      ],
      "text/plain": [
       "    0         1    2    3    4    5    6    7    8        9       10\n",
       "0  0.0  267750.0  2.0  1.0  1.0  0.0  1.0  1.0  0.0  20991.0  4727.0\n",
       "1  0.0  315000.0  2.0  1.0  1.0  1.0  1.0  1.0  0.0  10450.0  2077.0\n",
       "2  1.0  405000.0  3.0  1.0  0.0  1.0  1.0  1.0  0.0  11842.0  2016.0\n",
       "3  0.0  229500.0  2.0  1.0  1.0  0.0  1.0  1.0  0.0  18325.0  1256.0\n",
       "4  0.0  180000.0  2.0  1.0  0.0  0.0  1.0  1.0  0.0  14781.0  2443.0"
      ]
     },
     "metadata": {},
     "output_type": "display_data"
    },
    {
     "data": {
      "text/plain": [
       "(2368, 11)"
      ]
     },
     "execution_count": 4,
     "metadata": {},
     "output_type": "execute_result"
    }
   ],
   "source": [
    "# convert training data in json format to pandas df\n",
    "train_df = json_to_df(data_path='2-BiasMonitoring/data/training/', batch_list=list(range(0, 2251, 250)))\n",
    "display(train_df.head())\n",
    "train_df.shape"
   ]
  },
  {
   "cell_type": "markdown",
   "metadata": {},
   "source": [
    "## Send Training Data to Models\n",
    "\n",
    "Let's train our models by sending them data in batches of 250. Since our number of samples is not perfectly divisible 250, our last batch will have 118 samples. We will send our batched data to our models by first writing them to a `.json` file and then sending the `.json` file to the model. This step is a redundant given that there are pre-existing `.json` files for our batched data, however, we are assuming that most users can directly read their data file into a pandas DataFrame."
   ]
  },
  {
   "cell_type": "code",
   "execution_count": 36,
   "metadata": {},
   "outputs": [
    {
     "name": "stdout",
     "output_type": "stream",
     "text": [
      "Already on project \"model-namespace\" on server \"https://api.trustyai-2024.hzud.p3.openshiftapps.com:443\".\n"
     ]
    },
    {
     "ename": "IndexError",
     "evalue": "list index out of range",
     "output_type": "error",
     "traceback": [
      "\u001b[0;31m---------------------------------------------------------------------------\u001b[0m",
      "\u001b[0;31mIndexError\u001b[0m                                Traceback (most recent call last)",
      "Cell \u001b[0;32mIn[36], line 2\u001b[0m\n\u001b[1;32m      1\u001b[0m \u001b[38;5;28;01mfor\u001b[39;00m batch \u001b[38;5;129;01min\u001b[39;00m \u001b[38;5;28mrange\u001b[39m(\u001b[38;5;241m0\u001b[39m, \u001b[38;5;241m2551\u001b[39m, \u001b[38;5;241m250\u001b[39m):\n\u001b[0;32m----> 2\u001b[0m     \u001b[43msend_data_batch\u001b[49m\u001b[43m(\u001b[49m\u001b[38;5;124;43mf\u001b[39;49m\u001b[38;5;124;43m'\u001b[39;49m\u001b[38;5;124;43m2-BiasMonitoring/data/training/\u001b[39;49m\u001b[38;5;132;43;01m{\u001b[39;49;00m\u001b[43mbatch\u001b[49m\u001b[38;5;132;43;01m}\u001b[39;49;00m\u001b[38;5;124;43m.json\u001b[39;49m\u001b[38;5;124;43m'\u001b[39;49m\u001b[43m)\u001b[49m\n",
      "Cell \u001b[0;32mIn[35], line 24\u001b[0m, in \u001b[0;36msend_data_batch\u001b[0;34m(batch_file)\u001b[0m\n\u001b[1;32m     22\u001b[0m \u001b[38;5;66;03m# get trustyai pod\u001b[39;00m\n\u001b[1;32m     23\u001b[0m model_namespace_pods \u001b[38;5;241m=\u001b[39m subprocess\u001b[38;5;241m.\u001b[39mcheck_output(\u001b[38;5;124m'\u001b[39m\u001b[38;5;124moc get pods -o name\u001b[39m\u001b[38;5;124m'\u001b[39m, shell\u001b[38;5;241m=\u001b[39m\u001b[38;5;28;01mTrue\u001b[39;00m)\u001b[38;5;241m.\u001b[39mdecode()\u001b[38;5;241m.\u001b[39msplit(\u001b[38;5;124m'\u001b[39m\u001b[38;5;130;01m\\n\u001b[39;00m\u001b[38;5;124m'\u001b[39m)\n\u001b[0;32m---> 24\u001b[0m trusty_pod \u001b[38;5;241m=\u001b[39m \u001b[43m[\u001b[49m\u001b[43mpod\u001b[49m\u001b[43m \u001b[49m\u001b[38;5;28;43;01mfor\u001b[39;49;00m\u001b[43m \u001b[49m\u001b[43mpod\u001b[49m\u001b[43m \u001b[49m\u001b[38;5;129;43;01min\u001b[39;49;00m\u001b[43m \u001b[49m\u001b[43mmodel_namespace_pods\u001b[49m\u001b[43m \u001b[49m\u001b[38;5;28;43;01mif\u001b[39;49;00m\u001b[43m \u001b[49m\u001b[38;5;124;43m'\u001b[39;49m\u001b[38;5;124;43mtrustyai-service\u001b[39;49m\u001b[38;5;124;43m'\u001b[39;49m\u001b[43m \u001b[49m\u001b[38;5;129;43;01min\u001b[39;49;00m\u001b[43m \u001b[49m\u001b[43mpod\u001b[49m\u001b[43m]\u001b[49m\u001b[43m[\u001b[49m\u001b[38;5;241;43m0\u001b[39;49m\u001b[43m]\u001b[49m\n\u001b[1;32m     26\u001b[0m alpha_infer_route \u001b[38;5;241m=\u001b[39m subprocess\u001b[38;5;241m.\u001b[39mcheck_output(\u001b[38;5;124mf\u001b[39m\u001b[38;5;124m'\u001b[39m\u001b[38;5;124moc get route \u001b[39m\u001b[38;5;132;01m{\u001b[39;00malpha_model\u001b[38;5;132;01m}\u001b[39;00m\u001b[38;5;124m'\u001b[39m \u001b[38;5;241m+\u001b[39m \u001b[38;5;124m'\u001b[39m\u001b[38;5;124m --template=\u001b[39m\u001b[38;5;124m{{\u001b[39m\u001b[38;5;124m.spec.host}}\u001b[39m\u001b[38;5;124m{{\u001b[39m\u001b[38;5;124m.spec.path}}\u001b[39m\u001b[38;5;124m'\u001b[39m, shell\u001b[38;5;241m=\u001b[39m\u001b[38;5;28;01mTrue\u001b[39;00m)\u001b[38;5;241m.\u001b[39mdecode()\n\u001b[1;32m     27\u001b[0m beta_infer_route \u001b[38;5;241m=\u001b[39m subprocess\u001b[38;5;241m.\u001b[39mcheck_output(\u001b[38;5;124mf\u001b[39m\u001b[38;5;124m'\u001b[39m\u001b[38;5;124moc get route \u001b[39m\u001b[38;5;132;01m{\u001b[39;00mbeta_model\u001b[38;5;132;01m}\u001b[39;00m\u001b[38;5;124m'\u001b[39m \u001b[38;5;241m+\u001b[39m \u001b[38;5;124m'\u001b[39m\u001b[38;5;124m --template=\u001b[39m\u001b[38;5;124m{{\u001b[39m\u001b[38;5;124m.spec.host}}\u001b[39m\u001b[38;5;124m{{\u001b[39m\u001b[38;5;124m.spec.path}}\u001b[39m\u001b[38;5;124m'\u001b[39m, shell\u001b[38;5;241m=\u001b[39m\u001b[38;5;28;01mTrue\u001b[39;00m)\u001b[38;5;241m.\u001b[39mdecode()\n",
      "\u001b[0;31mIndexError\u001b[0m: list index out of range"
     ]
    }
   ],
   "source": [
    "# define batch size\n",
    "batch_size = 250\n",
    "\n",
    "# create a list of batched df\n",
    "train_df_list = [train_df[i:i+batch_size] for i in range (0, len(train_df), batch_size)]\n",
    "\n",
    "# iterate through each batch in list of batches\n",
    "batch_id = list(range(0, 2551, 250))\n",
    "for batch, id in zip(train_df_list, batch_id):\n",
    "    # convert batched df to json format and write to json file\n",
    "    json_data = df_to_json(batch, 'customer_data_input', f'2-BiasMonitoring/data//training/{id}.json')\n",
    "    # send data in json format to models\n",
    "    send_data_batch(f'2-BiasMonitoring/data/training/{id}.json')"
   ]
  },
  {
   "cell_type": "markdown",
   "metadata": {},
   "source": [
    "## Examining TrustyAI's Model Metadata"
   ]
  },
  {
   "cell_type": "markdown",
   "metadata": {},
   "source": [
    "While we can observe that our models are recieving data through the OpenShift Cluster Metrics, we can do it more directly and also get more information by getting metadata from our models.m"
   ]
  },
  {
   "cell_type": "code",
   "execution_count": 59,
   "metadata": {},
   "outputs": [
    {
     "name": "stdout",
     "output_type": "stream",
     "text": [
      "[{'metrics': {'scheduledMetadata': {'metricCounts': {}}}, 'data': {'inputSchema': {'items': {'customer_data_input-6': {'type': 'DOUBLE', 'name': 'customer_data_input-6', 'values': [1.0, 0.0], 'index': 6}, 'customer_data_input-5': {'type': 'DOUBLE', 'name': 'customer_data_input-5', 'values': [0.0, 1.0], 'index': 5}, 'customer_data_input-4': {'type': 'DOUBLE', 'name': 'customer_data_input-4', 'values': [1.0, 0.0], 'index': 4}, 'customer_data_input-3': {'type': 'DOUBLE', 'name': 'customer_data_input-3', 'values': [1.0, 0.0], 'index': 3}, 'customer_data_input-2': {'type': 'DOUBLE', 'name': 'customer_data_input-2', 'values': [2.0, 1.0, 4.0, 3.0], 'index': 2}, 'customer_data_input-1': {'type': 'DOUBLE', 'name': 'customer_data_input-1', 'values': [135000.0, 180000.0, 267750.0, 216000.0, 225000.0, 234000.0, 252000.0, 270000.0, 360000.0, 157500.0, 337500.0, 166500.0, 202500.0, 211500.0, 427500.0, 229500.0, 247500.0, 67500.0, 279000.0, 297000.0, 315000.0, 90000.0, 405000.0, 112500.0, 126000.0, 130500.0], 'index': 1}, 'customer_data_input-0': {'type': 'DOUBLE', 'name': 'customer_data_input-0', 'values': [0.0, 1.0, 2.0], 'index': 0}, 'customer_data_input-10': {'type': 'DOUBLE', 'name': 'customer_data_input-10', 'values': [586.0, 769.0, 798.0, 828.0, 860.0, 889.0, 921.0, 982.0, 1134.0, 1103.0, 1194.0, 1195.0, 1256.0, 1286.0, 1408.0, 1469.0, 1560.0, 1652.0, 1620.0, 1773.0, 2016.0, 2077.0, 2290.0, 2289.0, 2381.0, 2443.0, 2808.0, 2747.0, 2901.0, 2989.0, 3174.0, 3112.0, 3234.0, 3720.0, 4056.0, 4025.0, 4450.0, 4391.0, 4542.0, 4727.0, 4846.0, 5364.0, 5304.0, 5792.0, 5730.0, 6276.0, 7099.0, 130.0, 252.0, 432.0], 'index': 10}, 'customer_data_input-9': {'type': 'DOUBLE', 'name': 'customer_data_input-9', 'values': [18325.0, 17573.0, 19575.0, 20991.0, 21155.0, 20531.0, 8861.0, 9430.0, 9657.0, 9957.0, 10031.0, 9927.0, 10450.0, 10266.0, 10321.0, 10750.0, 10669.0, 10611.0, 11042.0, 10968.0, 10997.0, 11842.0, 12005.0, 12411.0, 12333.0, 12628.0, 12859.0, 13679.0, 13642.0, 13923.0, 14122.0, 14781.0, 14730.0, 14667.0, 14867.0, 15321.0, 15825.0, 15519.0, 15484.0, 15737.0, 15444.0, 16027.0, 16212.0, 16582.0, 16872.0, 16670.0, 17778.0, 18926.0, 18674.0, 20502.0, 20874.0, 21474.0, 20604.0], 'index': 9}, 'customer_data_input-8': {'type': 'DOUBLE', 'name': 'customer_data_input-8', 'values': [0.0, 1.0], 'index': 8}, 'customer_data_input-7': {'type': 'DOUBLE', 'name': 'customer_data_input-7', 'values': [1.0], 'index': 7}}, 'nameMapping': {}}, 'outputSchema': {'items': {'predict': {'type': 'INT64', 'name': 'predict', 'values': [0, 1], 'index': 11}}, 'nameMapping': {}}, 'observations': 500, 'modelId': 'demo-loan-nn-onnx-beta'}}, {'metrics': {'scheduledMetadata': {'metricCounts': {}}}, 'data': {'inputSchema': {'items': {'customer_data_input-6': {'type': 'DOUBLE', 'name': 'customer_data_input-6', 'values': [1.0, 0.0], 'index': 6}, 'customer_data_input-5': {'type': 'DOUBLE', 'name': 'customer_data_input-5', 'values': [0.0, 1.0], 'index': 5}, 'customer_data_input-4': {'type': 'DOUBLE', 'name': 'customer_data_input-4', 'values': [1.0, 0.0], 'index': 4}, 'customer_data_input-3': {'type': 'DOUBLE', 'name': 'customer_data_input-3', 'values': [1.0, 0.0], 'index': 3}, 'customer_data_input-2': {'type': 'DOUBLE', 'name': 'customer_data_input-2', 'values': [2.0, 1.0, 4.0, 3.0], 'index': 2}, 'customer_data_input-1': {'type': 'DOUBLE', 'name': 'customer_data_input-1', 'values': [135000.0, 180000.0, 267750.0, 216000.0, 225000.0, 234000.0, 252000.0, 270000.0, 360000.0, 157500.0, 337500.0, 166500.0, 202500.0, 211500.0, 427500.0, 229500.0, 247500.0, 67500.0, 279000.0, 297000.0, 315000.0, 90000.0, 405000.0, 112500.0, 126000.0, 130500.0], 'index': 1}, 'customer_data_input-0': {'type': 'DOUBLE', 'name': 'customer_data_input-0', 'values': [0.0, 1.0, 2.0], 'index': 0}, 'customer_data_input-10': {'type': 'DOUBLE', 'name': 'customer_data_input-10', 'values': [586.0, 769.0, 798.0, 828.0, 860.0, 889.0, 921.0, 982.0, 1134.0, 1103.0, 1194.0, 1195.0, 1256.0, 1286.0, 1408.0, 1469.0, 1560.0, 1652.0, 1620.0, 1773.0, 2016.0, 2077.0, 2290.0, 2289.0, 2381.0, 2443.0, 2808.0, 2747.0, 2901.0, 2989.0, 3174.0, 3112.0, 3234.0, 3720.0, 4056.0, 4025.0, 4450.0, 4391.0, 4542.0, 4727.0, 4846.0, 5364.0, 5304.0, 5792.0, 5730.0, 6276.0, 7099.0, 130.0, 252.0, 432.0], 'index': 10}, 'customer_data_input-9': {'type': 'DOUBLE', 'name': 'customer_data_input-9', 'values': [18325.0, 17573.0, 19575.0, 20991.0, 21155.0, 20531.0, 8861.0, 9430.0, 9657.0, 9957.0, 10031.0, 9927.0, 10450.0, 10266.0, 10321.0, 10750.0, 10669.0, 10611.0, 11042.0, 10968.0, 10997.0, 11842.0, 12005.0, 12411.0, 12333.0, 12628.0, 12859.0, 13679.0, 13642.0, 13923.0, 14122.0, 14781.0, 14730.0, 14667.0, 14867.0, 15321.0, 15825.0, 15519.0, 15484.0, 15737.0, 15444.0, 16027.0, 16212.0, 16582.0, 16872.0, 16670.0, 17778.0, 18926.0, 18674.0, 20502.0, 20874.0, 21474.0, 20604.0], 'index': 9}, 'customer_data_input-8': {'type': 'DOUBLE', 'name': 'customer_data_input-8', 'values': [0.0, 1.0], 'index': 8}, 'customer_data_input-7': {'type': 'DOUBLE', 'name': 'customer_data_input-7', 'values': [1.0], 'index': 7}}, 'nameMapping': {}}, 'outputSchema': {'items': {'predict': {'type': 'INT64', 'name': 'predict', 'values': [0, 1], 'index': 11}}, 'nameMapping': {}}, 'observations': 500, 'modelId': 'demo-loan-nn-onnx-alpha'}}]\n"
     ]
    },
    {
     "name": "stderr",
     "output_type": "stream",
     "text": [
      "/Users/chrxu/Library/Python/3.9/lib/python/site-packages/urllib3/connectionpool.py:1099: InsecureRequestWarning: Unverified HTTPS request is being made to host 'trustyai-service-model-namespace.apps.rosa.trustyai-2024.hzud.p3.openshiftapps.com'. Adding certificate verification is strongly advised. See: https://urllib3.readthedocs.io/en/latest/advanced-usage.html#tls-warnings\n",
      "  warnings.warn(\n"
     ]
    }
   ],
   "source": [
    "model_metadata = trustyaiClient.get_model_metadata()\n",
    "print(model_metadata)"
   ]
  },
  {
   "cell_type": "markdown",
   "metadata": {},
   "source": [
    "## Label Data Fields"
   ]
  },
  {
   "cell_type": "markdown",
   "metadata": {},
   "source": [
    "Currently, our data does not have meaningful input and output names. Let's assign labels to them."
   ]
  },
  {
   "cell_type": "code",
   "execution_count": 61,
   "metadata": {},
   "outputs": [
    {
     "name": "stdout",
     "output_type": "stream",
     "text": [
      "Feature and output name mapping successfully applied.Feature and output name mapping successfully applied.customer_data_input-0 -> Number of Children\n",
      "customer_data_input-1 -> Total Income\n",
      "customer_data_input-2 -> Number of Total Family Members\n",
      "customer_data_input-3 -> Is Male-Identifying?\n",
      "customer_data_input-4 -> Owns Car?\n",
      "customer_data_input-5 -> Owns Realty?\n",
      "customer_data_input-6 -> Is Partnered?\n",
      "customer_data_input-7 -> Is Employed?\n",
      "customer_data_input-8 -> Live with Parents?\n",
      "customer_data_input-9 -> Age\n",
      "customer_data_input-10 -> Length of Employment?\n"
     ]
    }
   ],
   "source": [
    "trustyaiClient.label_data_fields('2-BiasMonitoring/scripts/apply_name_mapping.sh')"
   ]
  },
  {
   "cell_type": "markdown",
   "metadata": {},
   "source": [
    "## Check Model Fairness\n",
    "\n",
    "As a sanity check, let's ensure that our models are fair over the training data. "
   ]
  },
  {
   "cell_type": "code",
   "execution_count": 63,
   "metadata": {},
   "outputs": [
    {
     "name": "stdout",
     "output_type": "stream",
     "text": [
      "Cumulative fairness_metric for {'modelId': 'demo-loan-nn-onnx-alpha', 'protectedAttribute': 'Is Male-Identifying?', 'privilegedAttribute': 1.0, 'unprivilegedAttribute': 0.0, 'outcomeName': 'Will Default?', 'favorableOutcome': 0, 'batchSize': 5000}: {\"timestamp\":\"2024-02-07T00:04:22.301+00:00\",\"type\":\"metric\",\"value\":0.010840108401084014,\"namedValues\":null,\"specificDefinition\":\"The SPD of 0.010840 indicates that the likelihood of Group:Is Male-Identifying?=1.0 receiving Outcome:Will Default?=0 was 1.084011 percentage points higher than that of Group:Is Male-Identifying?=0.0.\",\"name\":\"SPD\",\"id\":\"7705c04d-1edd-44fe-ae3f-9a28bf94bf62\",\"thresholds\":{\"lowerBound\":-0.1,\"upperBound\":0.1,\"outsideBounds\":false}}\n",
      "Cumulative fairness_metric for {'modelId': 'demo-loan-nn-onnx-beta', 'protectedAttribute': 'Is Male-Identifying?', 'privilegedAttribute': 1.0, 'unprivilegedAttribute': 0.0, 'outcomeName': 'Will Default?', 'favorableOutcome': 0, 'batchSize': 5000}: {\"timestamp\":\"2024-02-07T00:04:22.458+00:00\",\"type\":\"metric\",\"value\":0.03089430894308942,\"namedValues\":null,\"specificDefinition\":\"The SPD of 0.030894 indicates that the likelihood of Group:Is Male-Identifying?=1.0 receiving Outcome:Will Default?=0 was 3.089431 percentage points higher than that of Group:Is Male-Identifying?=0.0.\",\"name\":\"SPD\",\"id\":\"45d3cb03-fdd9-4e9b-9edd-d42c3fe41456\",\"thresholds\":{\"lowerBound\":-0.1,\"upperBound\":0.1,\"outsideBounds\":false}}\n"
     ]
    }
   ],
   "source": [
    "alpha_data = {\n",
    "        \"modelId\": \"demo-loan-nn-onnx-alpha\",\n",
    "        \"protectedAttribute\": \"Is Male-Identifying?\",\n",
    "        \"privilegedAttribute\": 1.0,\n",
    "        \"unprivilegedAttribute\": 0.0,\n",
    "        \"outcomeName\": \"Will Default?\",\n",
    "        \"favorableOutcome\": 0,\n",
    "        \"batchSize\": 5000\n",
    "    }\n",
    "\n",
    "beta_data = {\n",
    "        \"modelId\": \"demo-loan-nn-onnx-beta\",\n",
    "        \"protectedAttribute\": \"Is Male-Identifying?\",\n",
    "        \"privilegedAttribute\": 1.0,\n",
    "        \"unprivilegedAttribute\": 0.0,\n",
    "        \"outcomeName\": \"Will Default?\",\n",
    "        \"favorableOutcome\": 0,\n",
    "        \"batchSize\": 5000\n",
    "    }\n",
    "\n",
    "alpha_fairness_metric = trustyaiClient.get_metric_request(\n",
    "    data=alpha_data, \n",
    "    metric='group/fairness/spd', \n",
    "    reoccuring=False\n",
    ")\n",
    "beta_fairness_metric = trustyaiClient.get_metric_request(\n",
    "    data=beta_data, \n",
    "    metric='group/fairness/spd',\n",
    "    reoccuring=False\n",
    ")\n",
    "print(f'Cumulative fairness_metric for {alpha_data}: {alpha_fairness_metric}')\n",
    "print(f'Cumulative fairness_metric for {beta_data}: {beta_fairness_metric}') "
   ]
  },
  {
   "cell_type": "markdown",
   "metadata": {},
   "source": [
    "## Schedule a Fairness Metric Request\n",
    "\n",
    "While it's great that our models are fair over training data, it's more critical that they remain fair over unseen real-world data. Let's schedule some metric requests which will be computed at recurring intervals throughout deployment. The following cell will return `request_id`'s which can be used to later delete these scheduled requests."
   ]
  },
  {
   "cell_type": "code",
   "execution_count": null,
   "metadata": {},
   "outputs": [],
   "source": [
    "alpha_request_id = trustyaiClient.get_metric_request(\n",
    "    data=alpha_data, \n",
    "    metric='group/fairness/spd', \n",
    "    reoccuring=True\n",
    ")\n",
    "beta_request_id = trustyaiClient.get_metric_request(\n",
    "    data=beta_data, \n",
    "    metric='group/fairness/spd',\n",
    "    reoccuring=True\n",
    ")"
   ]
  },
  {
   "cell_type": "markdown",
   "metadata": {},
   "source": [
    "## Schedule an Identity Metric Request\n",
    "\n",
    "Let's also monitor the average values of various data fields over time, to see the average ratio of loan-payback to loan-default predictions, as well as the average ratio of male-identifying to non-male-identifying applicants."
   ]
  },
  {
   "cell_type": "code",
   "execution_count": null,
   "metadata": {},
   "outputs": [
    {
     "name": "stdout",
     "output_type": "stream",
     "text": [
      "[{'metrics': {'scheduledMetadata': {'metricCounts': {}}}, 'data': {'inputSchema': {'items': {'customer_data_input-6': {'type': 'DOUBLE', 'name': 'customer_data_input-6', 'values': [1.0, 0.0], 'index': 6}, 'customer_data_input-5': {'type': 'DOUBLE', 'name': 'customer_data_input-5', 'values': [0.0, 1.0], 'index': 5}, 'customer_data_input-4': {'type': 'DOUBLE', 'name': 'customer_data_input-4', 'values': [1.0, 0.0], 'index': 4}, 'customer_data_input-3': {'type': 'DOUBLE', 'name': 'customer_data_input-3', 'values': [1.0, 0.0], 'index': 3}, 'customer_data_input-2': {'type': 'DOUBLE', 'name': 'customer_data_input-2', 'values': [2.0, 1.0, 4.0, 5.0, 3.0], 'index': 2}, 'customer_data_input-1': {'type': 'DOUBLE', 'name': 'customer_data_input-1', 'values': [135000.0, 292500.0, 180000.0, 267750.0, 216000.0, 225000.0, 234000.0, 252000.0, 270000.0, 360000.0, 450000.0, 148500.0, 157500.0, 337500.0, 166500.0, 202500.0, 211500.0, 427500.0, 229500.0, 247500.0, 67500.0, 279000.0, 297000.0, 315000.0, 90000.0, 765000.0, 405000.0, 112500.0, 126000.0, 130500.0], 'index': 1}, 'customer_data_input-0': {'type': 'DOUBLE', 'name': 'customer_data_input-0', 'values': [0.0, 1.0, 2.0, 3.0], 'index': 0}, 'customer_data_input-10': {'type': 'DOUBLE', 'name': 'customer_data_input-10', 'values': [555.0, 586.0, 708.0, 769.0, 798.0, 828.0, 860.0, 889.0, 921.0, 982.0, 1134.0, 1103.0, 1194.0, 1195.0, 1163.0, 1256.0, 1286.0, 1347.0, 1408.0, 1469.0, 1560.0, 1652.0, 1620.0, 1712.0, 1773.0, 2016.0, 2077.0, 2290.0, 2289.0, 2381.0, 2443.0, 2808.0, 2747.0, 2777.0, 2901.0, 2989.0, 3174.0, 3112.0, 3173.0, 3234.0, 3720.0, 4056.0, 4025.0, 4450.0, 4391.0, 4542.0, 4727.0, 4846.0, 5364.0, 5304.0, 5792.0, 5730.0, 6276.0, 7099.0, 8684.0, 10843.0, 130.0, 252.0, 312.0, 432.0], 'index': 10}, 'customer_data_input-9': {'type': 'DOUBLE', 'name': 'customer_data_input-9', 'values': [18325.0, 17573.0, 17641.0, 17785.0, 19575.0, 19861.0, 20991.0, 21155.0, 20531.0, 20953.0, 8861.0, 8842.0, 9430.0, 9657.0, 9957.0, 10031.0, 9927.0, 10064.0, 10450.0, 10266.0, 10321.0, 10750.0, 10669.0, 10611.0, 10264.0, 10628.0, 11042.0, 10968.0, 10997.0, 11842.0, 12005.0, 12197.0, 12411.0, 12333.0, 12628.0, 12689.0, 12859.0, 12915.0, 13271.0, 13679.0, 13642.0, 13923.0, 14122.0, 14781.0, 14730.0, 14667.0, 14450.0, 14867.0, 15321.0, 15825.0, 15519.0, 15484.0, 15737.0, 15444.0, 15761.0, 16027.0, 16212.0, 16582.0, 16872.0, 16670.0, 17016.0, 17778.0, 17726.0, 18926.0, 18674.0, 20502.0, 20874.0, 21474.0, 20604.0], 'index': 9}, 'customer_data_input-8': {'type': 'DOUBLE', 'name': 'customer_data_input-8', 'values': [0.0, 1.0], 'index': 8}, 'customer_data_input-7': {'type': 'DOUBLE', 'name': 'customer_data_input-7', 'values': [1.0], 'index': 7}}, 'nameMapping': {'customer_data_input-0': 'Number of Children', 'customer_data_input-1': 'Total Income', 'customer_data_input-2': 'Number of Total Family Members', 'customer_data_input-3': 'Is Male-Identifying?', 'customer_data_input-4': 'Owns Car?', 'customer_data_input-5': 'Owns Realty?', 'customer_data_input-6': 'Is Partnered?', 'customer_data_input-7': 'Is Employed?', 'customer_data_input-8': 'Live with Parents?', 'customer_data_input-9': 'Age', 'customer_data_input-10': 'Length of Employment?'}}, 'outputSchema': {'items': {'predict': {'type': 'INT64', 'name': 'predict', 'values': [0, 1], 'index': 11}}, 'nameMapping': {'predict': 'Will Default?'}}, 'observations': 2368, 'modelId': 'demo-loan-nn-onnx-beta'}}, {'metrics': {'scheduledMetadata': {'metricCounts': {'SPD': 2}}}, 'data': {'inputSchema': {'items': {'customer_data_input-6': {'type': 'DOUBLE', 'name': 'customer_data_input-6', 'values': [1.0, 0.0], 'index': 6}, 'customer_data_input-5': {'type': 'DOUBLE', 'name': 'customer_data_input-5', 'values': [0.0, 1.0], 'index': 5}, 'customer_data_input-4': {'type': 'DOUBLE', 'name': 'customer_data_input-4', 'values': [1.0, 0.0], 'index': 4}, 'customer_data_input-3': {'type': 'DOUBLE', 'name': 'customer_data_input-3', 'values': [1.0, 0.0], 'index': 3}, 'customer_data_input-2': {'type': 'DOUBLE', 'name': 'customer_data_input-2', 'values': [2.0, 1.0, 4.0, 5.0, 3.0], 'index': 2}, 'customer_data_input-1': {'type': 'DOUBLE', 'name': 'customer_data_input-1', 'values': [135000.0, 292500.0, 180000.0, 267750.0, 216000.0, 225000.0, 234000.0, 252000.0, 270000.0, 360000.0, 450000.0, 148500.0, 157500.0, 337500.0, 166500.0, 202500.0, 211500.0, 427500.0, 229500.0, 247500.0, 67500.0, 279000.0, 297000.0, 315000.0, 90000.0, 765000.0, 405000.0, 112500.0, 126000.0, 130500.0], 'index': 1}, 'customer_data_input-0': {'type': 'DOUBLE', 'name': 'customer_data_input-0', 'values': [0.0, 1.0, 2.0, 3.0], 'index': 0}, 'customer_data_input-10': {'type': 'DOUBLE', 'name': 'customer_data_input-10', 'values': [555.0, 586.0, 708.0, 769.0, 798.0, 828.0, 860.0, 889.0, 921.0, 982.0, 1134.0, 1103.0, 1194.0, 1195.0, 1163.0, 1256.0, 1286.0, 1347.0, 1408.0, 1469.0, 1560.0, 1652.0, 1620.0, 1712.0, 1773.0, 2016.0, 2077.0, 2290.0, 2289.0, 2381.0, 2443.0, 2808.0, 2747.0, 2777.0, 2901.0, 2989.0, 3174.0, 3112.0, 3173.0, 3234.0, 3720.0, 4056.0, 4025.0, 4450.0, 4391.0, 4542.0, 4727.0, 4846.0, 5364.0, 5304.0, 5792.0, 5730.0, 6276.0, 7099.0, 8684.0, 10843.0, 130.0, 252.0, 312.0, 432.0], 'index': 10}, 'customer_data_input-9': {'type': 'DOUBLE', 'name': 'customer_data_input-9', 'values': [18325.0, 17573.0, 17641.0, 17785.0, 19575.0, 19861.0, 20991.0, 21155.0, 20531.0, 20953.0, 8861.0, 8842.0, 9430.0, 9657.0, 9957.0, 10031.0, 9927.0, 10064.0, 10450.0, 10266.0, 10321.0, 10750.0, 10669.0, 10611.0, 10264.0, 10628.0, 11042.0, 10968.0, 10997.0, 11842.0, 12005.0, 12197.0, 12411.0, 12333.0, 12628.0, 12689.0, 12859.0, 12915.0, 13271.0, 13679.0, 13642.0, 13923.0, 14122.0, 14781.0, 14730.0, 14667.0, 14450.0, 14867.0, 15321.0, 15825.0, 15519.0, 15484.0, 15737.0, 15444.0, 15761.0, 16027.0, 16212.0, 16582.0, 16872.0, 16670.0, 17016.0, 17778.0, 17726.0, 18926.0, 18674.0, 20502.0, 20874.0, 21474.0, 20604.0], 'index': 9}, 'customer_data_input-8': {'type': 'DOUBLE', 'name': 'customer_data_input-8', 'values': [0.0, 1.0], 'index': 8}, 'customer_data_input-7': {'type': 'DOUBLE', 'name': 'customer_data_input-7', 'values': [1.0], 'index': 7}}, 'nameMapping': {'customer_data_input-0': 'Number of Children', 'customer_data_input-1': 'Total Income', 'customer_data_input-2': 'Number of Total Family Members', 'customer_data_input-3': 'Is Male-Identifying?', 'customer_data_input-4': 'Owns Car?', 'customer_data_input-5': 'Owns Realty?', 'customer_data_input-6': 'Is Partnered?', 'customer_data_input-7': 'Is Employed?', 'customer_data_input-8': 'Live with Parents?', 'customer_data_input-9': 'Age', 'customer_data_input-10': 'Length of Employment?'}}, 'outputSchema': {'items': {'predict': {'type': 'INT64', 'name': 'predict', 'values': [0, 1], 'index': 11}}, 'nameMapping': {'predict': 'Will Default?'}}, 'observations': 2368, 'modelId': 'demo-loan-nn-onnx-alpha'}}]\n"
     ]
    },
    {
     "name": "stderr",
     "output_type": "stream",
     "text": [
      "/Users/chrxu/Library/Python/3.9/lib/python/site-packages/urllib3/connectionpool.py:1099: InsecureRequestWarning: Unverified HTTPS request is being made to host 'trustyai-service-model-namespace.apps.rosa.trustyai-2024.hzud.p3.openshiftapps.com'. Adding certificate verification is strongly advised. See: https://urllib3.readthedocs.io/en/latest/advanced-usage.html#tls-warnings\n",
      "  warnings.warn(\n"
     ]
    }
   ],
   "source": [
    "for model in [alpha_model, beta_model]:\n",
    "    for field in [\"Is Male-Identifying?\" \"Will Default?\"]:\n",
    "        data = {\n",
    "            \"columnName\": f\"{field}\",\n",
    "            \"batchSize\": 250,\n",
    "            \"modelId\": f\"{model}\"\n",
    "        }\n",
    "\n",
    "        trustyaiClient.get_metric_request(data, 'identity', reoccuring=True)"
   ]
  },
  {
   "cell_type": "markdown",
   "metadata": {},
   "source": [
    "## Run Model Inference"
   ]
  },
  {
   "cell_type": "markdown",
   "metadata": {},
   "source": [
    "Now let's send some real world data to our models and observe whether they remain fair. Again, for the purposes of this demo, we are first converting data in .json format to a pandas DataFrame but we expect most users to skip this step."
   ]
  },
  {
   "cell_type": "code",
   "execution_count": null,
   "metadata": {},
   "outputs": [],
   "source": [
    "# convert real-word data in json format to pandas df\n",
    "test_df = json_to_df(data_path='2-BiasMonitoring/data/', batch_list=list(range(1, 9)))\n",
    "display(test_df.head())\n",
    "test_df.shape"
   ]
  },
  {
   "cell_type": "code",
   "execution_count": 6,
   "metadata": {},
   "outputs": [
    {
     "name": "stdout",
     "output_type": "stream",
     "text": [
      "{\"timestamp\":\"2024-02-01T16:43:34.647+00:00\",\"type\":\"metric\",\"value\":-0.0029676404469311524,\"namedValues\":null,\"specificDefinition\":\"The SPD of -0.002968 indicates that the likelihood of Group:Is Male-Identifying?=1.0 receiving Outcome:Will Default?=0 was -0.296764 percentage points lower than that of Group:Is Male-Identifying?=0.0.\",\"name\":\"SPD\",\"id\":\"84716efd-273e-4c6b-917d-f83c2460363e\",\"thresholds\":{\"lowerBound\":-0.1,\"upperBound\":0.1,\"outsideBounds\":false}}\n"
     ]
    }
   ],
   "source": [
    "test_df_list = [test_df[i:i+batch_size] for i in range (0, len(test_df), batch_size)]\n",
    "for batch, id in zip(test_df_list, list(range(0, 10))):\n",
    "   # convert to json\n",
    "   json_data = df_to_json(batch, 'customer_data_input', f'2-BiasMonitoring/data/0{id}.json')\n",
    "   send_data_batch(f'2-BiasMonitoring/data/0{id}.json')"
   ]
  },
  {
   "cell_type": "code",
   "execution_count": 7,
   "metadata": {},
   "outputs": [
    {
     "name": "stdout",
     "output_type": "stream",
     "text": [
      "{\"requestId\":\"d5a75959-9e69-48db-ad9e-4c68723d786a\",\"timestamp\":\"2024-02-01T16:43:38.092+00:00\"}\n"
     ]
    }
   ],
   "source": [
    "request_ids = trustyaiClient.schedule_metric_request(data, 'group/fairness/spd')\n",
    "print(request_ids)"
   ]
  },
  {
   "cell_type": "code",
   "execution_count": 8,
   "metadata": {},
   "outputs": [
    {
     "name": "stderr",
     "output_type": "stream",
     "text": [
      "/var/folders/1c/c_n6j9tj3gv1_5fjljk1hrz80000gn/T/ipykernel_35016/2747116593.py:1: DeprecationWarning: \n",
      "Pyarrow will become a required dependency of pandas in the next major release of pandas (pandas 3.0),\n",
      "(to allow more performant data types, such as the Arrow string type, and better interoperability with other libraries)\n",
      "but was not found to be installed on your system.\n",
      "If this would cause problems for you,\n",
      "please provide us feedback at https://github.com/pandas-dev/pandas/issues/54466\n",
      "        \n",
      "  import pandas as pd\n"
     ]
    }
   ],
   "source": [
    "import pandas as pd\n",
    " \n",
    "data = [\n",
    "    [\n",
    "        47.468246185717554,\n",
    "        575.6911203538863,\n",
    "        10.844143722475575,\n",
    "        14.81343667761101\n",
    "\n",
    "    ], \n",
    "    [\n",
    "        47.45380690750797,\n",
    "        478.6846214843319,\n",
    "        13.462184703540503,\n",
    "        20.764525303373535\n",
    "    ]\n",
    "]\n",
    "# Creating Empty DataFrame and Storing it in variable df\n",
    "df = pd.DataFrame(data=data)\n"
   ]
  },
  {
   "cell_type": "code",
   "execution_count": 17,
   "metadata": {},
   "outputs": [],
   "source": [
    "\n",
    "header = {'Content-Type': 'application/json'}\n",
    "\n",
    "data = {\"columnName\": \"Is Male-Identifying?\",\n",
    "        \"batchSize\": 250,\n",
    "        \"modelId\": \"demo-loan-nn-onnx-beta\"\n",
    "        }\n",
    "url = \"https://\"+TRUSTY_ROUTE+\"/metrics/identity/request\"\n",
    "\n",
    "r = requests.post(url, headers=header, data=data)\n"
   ]
  },
  {
   "cell_type": "code",
   "execution_count": null,
   "metadata": {},
   "outputs": [
    {
     "name": "stdout",
     "output_type": "stream",
     "text": [
      "{'model_name': 'gaussian_model', 'data_tag': 'TRAINING', 'requests': {'inputs': [{'name': 'credit_inputs', 'shape': [2, 4], 'datatype': 'FP64', 'data': [[47.468246185717554, 575.6911203538863, 10.844143722475575, 14.81343667761101], [47.45380690750797, 478.6846214843319, 13.462184703540503, 20.764525303373535]]}]}}\n"
     ]
    }
   ],
   "source": [
    "model_name = 'gaussian_model'\n",
    "data_tag = 'TRAINING'\n",
    "name = 'credit_inputs'\n",
    "data_type = 'FP64'\n",
    "data = df.values.tolist()\n",
    "\n",
    "def df_to_json(model_name, data_tag, name, df, path_to_json):\n",
    "    if str(df.dtypes[0]) == 'float64':\n",
    "        data_type = 'FP64'\n",
    "    inputs = [{'name': name, 'shape': list(df.shape), 'datatype': data_type, 'data': df.values.tolist()}]\n",
    "    data_dict = {'model_name': model_name, 'data_tag': data_tag, 'requests': {'inputs': inputs}}\n",
    "    \n",
    "    with open(path_to_json, \"w\") as outfile: \n",
    "        json.dump(data_dict, outfile)"
   ]
  },
  {
   "cell_type": "code",
   "execution_count": 23,
   "metadata": {},
   "outputs": [
    {
     "name": "stdout",
     "output_type": "stream",
     "text": [
      "https://thanos-querier-openshift-monitoring.apps.rosa.trustyai-2024.hzud.p3.openshiftapps.com/api/v1/query?\n"
     ]
    },
    {
     "name": "stderr",
     "output_type": "stream",
     "text": [
      "/Users/chrxu/Library/Python/3.9/lib/python/site-packages/urllib3/connectionpool.py:1099: InsecureRequestWarning: Unverified HTTPS request is being made to host 'thanos-querier-openshift-monitoring.apps.rosa.trustyai-2024.hzud.p3.openshiftapps.com'. Adding certificate verification is strongly advised. See: https://urllib3.readthedocs.io/en/latest/advanced-usage.html#tls-warnings\n",
      "  warnings.warn(\n"
     ]
    },
    {
     "data": {
      "text/plain": [
       "<Response [403]>"
      ]
     },
     "execution_count": 23,
     "metadata": {},
     "output_type": "execute_result"
    }
   ],
   "source": [
    "metric = 'trustyai_spd'\n",
    "namespace='model-namespace'\n",
    "# # range='[1m]'\n",
    "params = {\n",
    "            \"query\": \"trustyai_spd{namespace='model-namespace'}\"\n",
    "        }\n",
    "\n",
    "\n",
    "header = {\n",
    "    'Authorization': f'Bearer {TOKEN}'\n",
    "}\n",
    "# Make the GET request\n",
    "\n",
    "THANOS_ROUTE = 'https://thanos-querier-openshift-monitoring.apps.rosa.trustyai-2024.hzud.p3.openshiftapps.com'\n",
    "url = THANOS_ROUTE + \"/api/v1/query?\"\n",
    "print(url)\n",
    "response = requests.get(url, params=params, headers=header, verify=False)\n",
    "response\n",
    "\n",
    "# # Check if the request was successful\n",
    "# if response.status_code == 200:\n",
    "#             # Parse the JSON response and extract the desired data\n",
    "#             data = response.json()\n",
    "#             protected_value = data['data']['result']\n",
    "#             print(protected_value)\n",
    "# else:\n",
    "#     print(response.status_code)\n",
    "#     print(\"Error: Failed to fetch data from the API\")"
   ]
  },
  {
   "cell_type": "code",
   "execution_count": 31,
   "metadata": {},
   "outputs": [
    {
     "name": "stderr",
     "output_type": "stream",
     "text": [
      "/Users/chrxu/Library/Python/3.9/lib/python/site-packages/urllib3/connectionpool.py:1099: InsecureRequestWarning: Unverified HTTPS request is being made to host 'thanos-querier-openshift-monitoring.apps.rosa.trustyai-2024.hzud.p3.openshiftapps.com'. Adding certificate verification is strongly advised. See: https://urllib3.readthedocs.io/en/latest/advanced-usage.html#tls-warnings\n",
      "  warnings.warn(\n"
     ]
    },
    {
     "data": {
      "text/plain": [
       "b'{\"status\":\"success\",\"data\":{\"resultType\":\"matrix\",\"result\":[{\"metric\":{\"__name__\":\"trustyai_spd\",\"batch_size\":\"5000\",\"favorable_value\":\"0\",\"instance\":\"10.129.2.126:8080\",\"job\":\"trustyai-service\",\"metricName\":\"SPD\",\"model\":\"demo-loan-nn-onnx-alpha\",\"namespace\":\"model-namespace\",\"outcome\":\"Will Default?\",\"pod\":\"trustyai-service-84ffc86749-k4nf6\",\"privileged\":\"1\",\"prometheus\":\"openshift-user-workload-monitoring/user-workload\",\"protected\":\"Is Male-Identifying?\",\"request\":\"6b0c426e-5d88-450e-9d51-ba34a8d6926b\",\"service\":\"trustyai-service\",\"unprivileged\":\"0\"},\"values\":[[1706807917.936,\"-0.0029676404469311524\"],[1706807921.936,\"-0.0029676404469311524\"],[1706807925.936,\"-0.0029676404469311524\"],[1706807929.936,\"-0.0029676404469311524\"],[1706807933.936,\"-0.0029676404469311524\"],[1706807937.936,\"-0.0029676404469311524\"],[1706807941.936,\"-0.0029676404469311524\"],[1706807945.936,\"-0.0029676404469311524\"],[1706807949.936,\"-0.0029676404469311524\"],[1706807953.936,\"-0.0029676404469311524\"],[1706807957.936,\"-0.0029676404469311524\"],[1706807961.936,\"-0.0029676404469311524\"],[1706807965.936,\"-0.0029676404469311524\"],[1706807969.936,\"-0.0029676404469311524\"],[1706807973.936,\"-0.0029676404469311524\"]]},{\"metric\":{\"__name__\":\"trustyai_spd\",\"batch_size\":\"5000\",\"favorable_value\":\"0\",\"instance\":\"10.129.2.126:8080\",\"job\":\"trustyai-service\",\"metricName\":\"SPD\",\"model\":\"demo-loan-nn-onnx-alpha\",\"namespace\":\"model-namespace\",\"outcome\":\"Will Default?\",\"pod\":\"trustyai-service-84ffc86749-k4nf6\",\"privileged\":\"1\",\"prometheus\":\"openshift-user-workload-monitoring/user-workload\",\"protected\":\"Is Male-Identifying?\",\"request\":\"ae7de698-139a-43e6-ab0f-818f2485b141\",\"service\":\"trustyai-service\",\"unprivileged\":\"0\"},\"values\":[[1706807917.936,\"-0.0029676404469311524\"],[1706807921.936,\"-0.0029676404469311524\"],[1706807925.936,\"-0.0029676404469311524\"],[1706807929.936,\"-0.0029676404469311524\"],[1706807933.936,\"-0.0029676404469311524\"],[1706807937.936,\"-0.0029676404469311524\"],[1706807941.936,\"-0.0029676404469311524\"],[1706807945.936,\"-0.0029676404469311524\"],[1706807949.936,\"-0.0029676404469311524\"],[1706807953.936,\"-0.0029676404469311524\"],[1706807957.936,\"-0.0029676404469311524\"],[1706807961.936,\"-0.0029676404469311524\"],[1706807965.936,\"-0.0029676404469311524\"],[1706807969.936,\"-0.0029676404469311524\"],[1706807973.936,\"-0.0029676404469311524\"]]},{\"metric\":{\"__name__\":\"trustyai_spd\",\"batch_size\":\"5000\",\"favorable_value\":\"0\",\"instance\":\"10.129.2.126:8080\",\"job\":\"trustyai-service\",\"metricName\":\"SPD\",\"model\":\"demo-loan-nn-onnx-alpha\",\"namespace\":\"model-namespace\",\"outcome\":\"Will Default?\",\"pod\":\"trustyai-service-84ffc86749-k4nf6\",\"privileged\":\"1\",\"prometheus\":\"openshift-user-workload-monitoring/user-workload\",\"protected\":\"Is Male-Identifying?\",\"request\":\"cf664718-9ac4-4fcb-9c7d-36a7b59d0e73\",\"service\":\"trustyai-service\",\"unprivileged\":\"0\"},\"values\":[[1706807917.936,\"-0.0029676404469311524\"],[1706807921.936,\"-0.0029676404469311524\"],[1706807925.936,\"-0.0029676404469311524\"],[1706807929.936,\"-0.0029676404469311524\"],[1706807933.936,\"-0.0029676404469311524\"],[1706807937.936,\"-0.0029676404469311524\"],[1706807941.936,\"-0.0029676404469311524\"],[1706807945.936,\"-0.0029676404469311524\"],[1706807949.936,\"-0.0029676404469311524\"],[1706807953.936,\"-0.0029676404469311524\"],[1706807957.936,\"-0.0029676404469311524\"],[1706807961.936,\"-0.0029676404469311524\"],[1706807965.936,\"-0.0029676404469311524\"],[1706807969.936,\"-0.0029676404469311524\"],[1706807973.936,\"-0.0029676404469311524\"]]},{\"metric\":{\"__name__\":\"trustyai_spd\",\"batch_size\":\"5000\",\"favorable_value\":\"0\",\"instance\":\"10.129.2.126:8080\",\"job\":\"trustyai-service\",\"metricName\":\"SPD\",\"model\":\"demo-loan-nn-onnx-alpha\",\"namespace\":\"model-namespace\",\"outcome\":\"Will Default?\",\"pod\":\"trustyai-service-84ffc86749-k4nf6\",\"privileged\":\"1\",\"prometheus\":\"openshift-user-workload-monitoring/user-workload\",\"protected\":\"Is Male-Identifying?\",\"request\":\"d5a75959-9e69-48db-ad9e-4c68723d786a\",\"service\":\"trustyai-service\",\"unprivileged\":\"0\"},\"values\":[[1706807917.936,\"-0.0029676404469311524\"],[1706807921.936,\"-0.0029676404469311524\"],[1706807925.936,\"-0.0029676404469311524\"],[1706807929.936,\"-0.0029676404469311524\"],[1706807933.936,\"-0.0029676404469311524\"],[1706807937.936,\"-0.0029676404469311524\"],[1706807941.936,\"-0.0029676404469311524\"],[1706807945.936,\"-0.0029676404469311524\"],[1706807949.936,\"-0.0029676404469311524\"],[1706807953.936,\"-0.0029676404469311524\"],[1706807957.936,\"-0.0029676404469311524\"],[1706807961.936,\"-0.0029676404469311524\"],[1706807965.936,\"-0.0029676404469311524\"],[1706807969.936,\"-0.0029676404469311524\"],[1706807973.936,\"-0.0029676404469311524\"]]},{\"metric\":{\"__name__\":\"trustyai_spd\",\"batch_size\":\"5000\",\"favorable_value\":\"0\",\"instance\":\"10.129.2.126:8080\",\"job\":\"trustyai-service\",\"metricName\":\"SPD\",\"model\":\"demo-loan-nn-onnx-beta\",\"namespace\":\"model-namespace\",\"outcome\":\"Will Default?\",\"pod\":\"trustyai-service-84ffc86749-k4nf6\",\"privileged\":\"1\",\"prometheus\":\"openshift-user-workload-monitoring/user-workload\",\"protected\":\"Is Male-Identifying?\",\"request\":\"4c759bb2-da38-4ca8-8037-e669e5b7fb60\",\"service\":\"trustyai-service\",\"unprivileged\":\"0\"},\"values\":[[1706807917.936,\"0.027212622858439284\"],[1706807921.936,\"0.027212622858439284\"],[1706807925.936,\"0.027212622858439284\"],[1706807929.936,\"0.027212622858439284\"],[1706807933.936,\"0.027212622858439284\"],[1706807937.936,\"0.027212622858439284\"],[1706807941.936,\"0.027212622858439284\"],[1706807945.936,\"0.027212622858439284\"],[1706807949.936,\"0.027212622858439284\"],[1706807953.936,\"0.027212622858439284\"],[1706807957.936,\"0.027212622858439284\"],[1706807961.936,\"0.027212622858439284\"],[1706807965.936,\"0.027212622858439284\"],[1706807969.936,\"0.027212622858439284\"],[1706807973.936,\"0.027212622858439284\"]]}]}}\\n'"
      ]
     },
     "execution_count": 31,
     "metadata": {},
     "output_type": "execute_result"
    }
   ],
   "source": [
    "THANOS_QUERIER_HOST = \"thanos-querier-openshift-monitoring.apps.rosa.trustyai-2024.hzud.p3.openshiftapps.com\"\n",
    "TOKEN = 'sha256~jF2A7Lpt6P325M86xNJvq1cYgMMeL6sBhZ4DhXzlalg'\n",
    "\n",
    "\n",
    "url = \"https://\" + THANOS_QUERIER_HOST + \"/api/v1/query\"\n",
    "params = {\n",
    "            \"query\": \"trustyai_spd{namespace='model-namespace'}[1m]\"\n",
    "        }\n",
    "headers = {\n",
    "            \"Authorization\": \"Bearer \" + TOKEN\n",
    "        }\n",
    "\n",
    "    # Make the GET request\n",
    "response = requests.get(url, headers=headers, params=params, verify=False)\n",
    "\n",
    "import datetime as dt\n",
    "spd_dict = json.loads(response.text)\n",
    "spd_values = spd_dict['data']['result'][0]['values']\n",
    "spd_df = pd.DataFrame(spd_values, columns=['timestamp', 'spd'])\n",
    "\n",
    "spd_df['timestamp'] = spd_df['timestamp'].apply(lambda epoch: dt.datetime.fromtimestamp(epoch).strftime('%Y-%m-%d %H:%M:%S'))\n",
    "\n",
    "spd_df\n"
   ]
  },
  {
   "cell_type": "code",
   "execution_count": 56,
   "metadata": {},
   "outputs": [
    {
     "data": {
      "text/html": [
       "<div>\n",
       "<style scoped>\n",
       "    .dataframe tbody tr th:only-of-type {\n",
       "        vertical-align: middle;\n",
       "    }\n",
       "\n",
       "    .dataframe tbody tr th {\n",
       "        vertical-align: top;\n",
       "    }\n",
       "\n",
       "    .dataframe thead th {\n",
       "        text-align: right;\n",
       "    }\n",
       "</style>\n",
       "<table border=\"1\" class=\"dataframe\">\n",
       "  <thead>\n",
       "    <tr style=\"text-align: right;\">\n",
       "      <th></th>\n",
       "      <th>timestamp</th>\n",
       "      <th>spd</th>\n",
       "    </tr>\n",
       "  </thead>\n",
       "  <tbody>\n",
       "    <tr>\n",
       "      <th>0</th>\n",
       "      <td>2024-02-01 12:18:37</td>\n",
       "      <td>-0.0029676404469311524</td>\n",
       "    </tr>\n",
       "    <tr>\n",
       "      <th>1</th>\n",
       "      <td>2024-02-01 12:18:41</td>\n",
       "      <td>-0.0029676404469311524</td>\n",
       "    </tr>\n",
       "    <tr>\n",
       "      <th>2</th>\n",
       "      <td>2024-02-01 12:18:45</td>\n",
       "      <td>-0.0029676404469311524</td>\n",
       "    </tr>\n",
       "    <tr>\n",
       "      <th>3</th>\n",
       "      <td>2024-02-01 12:18:49</td>\n",
       "      <td>-0.0029676404469311524</td>\n",
       "    </tr>\n",
       "    <tr>\n",
       "      <th>4</th>\n",
       "      <td>2024-02-01 12:18:53</td>\n",
       "      <td>-0.0029676404469311524</td>\n",
       "    </tr>\n",
       "    <tr>\n",
       "      <th>5</th>\n",
       "      <td>2024-02-01 12:18:57</td>\n",
       "      <td>-0.0029676404469311524</td>\n",
       "    </tr>\n",
       "    <tr>\n",
       "      <th>6</th>\n",
       "      <td>2024-02-01 12:19:01</td>\n",
       "      <td>-0.0029676404469311524</td>\n",
       "    </tr>\n",
       "    <tr>\n",
       "      <th>7</th>\n",
       "      <td>2024-02-01 12:19:05</td>\n",
       "      <td>-0.0029676404469311524</td>\n",
       "    </tr>\n",
       "    <tr>\n",
       "      <th>8</th>\n",
       "      <td>2024-02-01 12:19:09</td>\n",
       "      <td>-0.0029676404469311524</td>\n",
       "    </tr>\n",
       "    <tr>\n",
       "      <th>9</th>\n",
       "      <td>2024-02-01 12:19:13</td>\n",
       "      <td>-0.0029676404469311524</td>\n",
       "    </tr>\n",
       "    <tr>\n",
       "      <th>10</th>\n",
       "      <td>2024-02-01 12:19:17</td>\n",
       "      <td>-0.0029676404469311524</td>\n",
       "    </tr>\n",
       "    <tr>\n",
       "      <th>11</th>\n",
       "      <td>2024-02-01 12:19:21</td>\n",
       "      <td>-0.0029676404469311524</td>\n",
       "    </tr>\n",
       "    <tr>\n",
       "      <th>12</th>\n",
       "      <td>2024-02-01 12:19:25</td>\n",
       "      <td>-0.0029676404469311524</td>\n",
       "    </tr>\n",
       "    <tr>\n",
       "      <th>13</th>\n",
       "      <td>2024-02-01 12:19:29</td>\n",
       "      <td>-0.0029676404469311524</td>\n",
       "    </tr>\n",
       "    <tr>\n",
       "      <th>14</th>\n",
       "      <td>2024-02-01 12:19:33</td>\n",
       "      <td>-0.0029676404469311524</td>\n",
       "    </tr>\n",
       "  </tbody>\n",
       "</table>\n",
       "</div>"
      ],
      "text/plain": [
       "              timestamp                     spd\n",
       "0   2024-02-01 12:18:37  -0.0029676404469311524\n",
       "1   2024-02-01 12:18:41  -0.0029676404469311524\n",
       "2   2024-02-01 12:18:45  -0.0029676404469311524\n",
       "3   2024-02-01 12:18:49  -0.0029676404469311524\n",
       "4   2024-02-01 12:18:53  -0.0029676404469311524\n",
       "5   2024-02-01 12:18:57  -0.0029676404469311524\n",
       "6   2024-02-01 12:19:01  -0.0029676404469311524\n",
       "7   2024-02-01 12:19:05  -0.0029676404469311524\n",
       "8   2024-02-01 12:19:09  -0.0029676404469311524\n",
       "9   2024-02-01 12:19:13  -0.0029676404469311524\n",
       "10  2024-02-01 12:19:17  -0.0029676404469311524\n",
       "11  2024-02-01 12:19:21  -0.0029676404469311524\n",
       "12  2024-02-01 12:19:25  -0.0029676404469311524\n",
       "13  2024-02-01 12:19:29  -0.0029676404469311524\n",
       "14  2024-02-01 12:19:33  -0.0029676404469311524"
      ]
     },
     "execution_count": 56,
     "metadata": {},
     "output_type": "execute_result"
    }
   ],
   "source": [
    "namespace = 'model-namespace'\n",
    "metric = 'trustyai_spd'\n",
    "range = '1m'\n",
    "\n",
    "spd_df = trustyaiClient.get_metric_data(namespace, metric, range)\n",
    "spd_df"
   ]
  }
 ],
 "metadata": {
  "kernelspec": {
   "display_name": "Python 3",
   "language": "python",
   "name": "python3"
  },
  "language_info": {
   "codemirror_mode": {
    "name": "ipython",
    "version": 3
   },
   "file_extension": ".py",
   "mimetype": "text/x-python",
   "name": "python",
   "nbconvert_exporter": "python",
   "pygments_lexer": "ipython3",
   "version": "3.9.6"
  }
 },
 "nbformat": 4,
 "nbformat_minor": 2
}
